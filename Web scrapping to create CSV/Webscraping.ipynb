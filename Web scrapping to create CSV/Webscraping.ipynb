{
 "cells": [
  {
   "cell_type": "code",
   "execution_count": null,
   "id": "2a28e9da",
   "metadata": {},
   "outputs": [],
   "source": []
  },
  {
   "cell_type": "code",
   "execution_count": 3,
   "id": "bb358d46",
   "metadata": {},
   "outputs": [
    {
     "name": "stdout",
     "output_type": "stream",
     "text": [
      "CSV file created successfully!\n"
     ]
    }
   ],
   "source": [
    "from bs4 import BeautifulSoup as bs\n",
    "import requests\n",
    "import csv\n",
    "author=[]\n",
    "dict={}\n",
    "for k in range(1,11,1):\n",
    "    if k==1:\n",
    "        response=requests.get('http://quotes.toscrape.com/')\n",
    "    else:\n",
    "        response= requests.get('http://quotes.toscrape.com/'+'/page/'+str(k)+'/')\n",
    "    data= bs(response.text,'html.parser')\n",
    "\n",
    "    lst=data.find_all(class_='author')\n",
    "    for j in lst:\n",
    "        author.append(j.string.strip())\n",
    "        dict[j.string.strip()]=dict.get(j.string.strip(),0)+1\n",
    "authors= sorted(set(author))\n",
    "csv_file_path = \"authors.csv\"\n",
    "\n",
    "# Write the data into the CSV file\n",
    "with open(csv_file_path, mode=\"w\", newline=\"\",encoding=\"utf-8\") as file:\n",
    "    writer = csv.writer(file)\n",
    "    writer.writerow([\"Authors Name\"])  # Write header row\n",
    "    writer.writerows([[movie] for movie in authors])\n",
    "\n",
    "print(\"CSV file created successfully!\")"
   ]
  },
  {
   "cell_type": "code",
   "execution_count": null,
   "id": "ee65189f",
   "metadata": {},
   "outputs": [],
   "source": []
  }
 ],
 "metadata": {
  "kernelspec": {
   "display_name": "Python 3 (ipykernel)",
   "language": "python",
   "name": "python3"
  },
  "language_info": {
   "codemirror_mode": {
    "name": "ipython",
    "version": 3
   },
   "file_extension": ".py",
   "mimetype": "text/x-python",
   "name": "python",
   "nbconvert_exporter": "python",
   "pygments_lexer": "ipython3",
   "version": "3.9.13"
  }
 },
 "nbformat": 4,
 "nbformat_minor": 5
}
